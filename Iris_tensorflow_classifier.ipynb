{
  "nbformat": 4,
  "nbformat_minor": 0,
  "metadata": {
    "colab": {
      "name": "Iris_tensorflow_classifier.ipynb",
      "provenance": [],
      "collapsed_sections": [],
      "toc_visible": true,
      "authorship_tag": "ABX9TyNMp9kB27gIlKrCYeXnoGgj",
      "include_colab_link": true
    },
    "kernelspec": {
      "name": "python3",
      "display_name": "Python 3"
    }
  },
  "cells": [
    {
      "cell_type": "markdown",
      "metadata": {
        "id": "view-in-github",
        "colab_type": "text"
      },
      "source": [
        "<a href=\"https://colab.research.google.com/github/DeepanjanSaha-INDIA/Neural_network_Iris_Dataset/blob/master/Iris_tensorflow_classifier.ipynb\" target=\"_parent\"><img src=\"https://colab.research.google.com/assets/colab-badge.svg\" alt=\"Open In Colab\"/></a>"
      ]
    },
    {
      "cell_type": "markdown",
      "metadata": {
        "id": "KEhBJfzJVPwV",
        "colab_type": "text"
      },
      "source": [
        "# Importing Modules"
      ]
    },
    {
      "cell_type": "code",
      "metadata": {
        "id": "eojcqj3ma6MN",
        "colab_type": "code",
        "colab": {}
      },
      "source": [
        "import tensorflow as tf\n",
        "import pandas as pd\n",
        "import matplotlib.pyplot as plt\n",
        "import numpy as np\n",
        "\n",
        "%matplotlib inline\n",
        "\n",
        "from sklearn.preprocessing import MinMaxScaler\n",
        "from sklearn.model_selection import train_test_split\n",
        "from sklearn.preprocessing import LabelEncoder"
      ],
      "execution_count": 0,
      "outputs": []
    },
    {
      "cell_type": "markdown",
      "metadata": {
        "id": "1cJev01rVZru",
        "colab_type": "text"
      },
      "source": [
        "# Loading the Dataset from Google Drive"
      ]
    },
    {
      "cell_type": "code",
      "metadata": {
        "id": "OF-ji4hcbSAw",
        "colab_type": "code",
        "colab": {}
      },
      "source": [
        "from pydrive.auth import GoogleAuth\n",
        "from pydrive.drive import GoogleDrive\n",
        "from google.colab import auth\n",
        "from oauth2client.client import GoogleCredentials\n",
        "\n",
        "# Authenticate and create the PyDrive client.\n",
        "auth.authenticate_user()\n",
        "gauth = GoogleAuth()\n",
        "gauth.credentials = GoogleCredentials.get_application_default()\n",
        "drive = GoogleDrive(gauth)"
      ],
      "execution_count": 0,
      "outputs": []
    },
    {
      "cell_type": "code",
      "metadata": {
        "id": "eflLaqkHbpB8",
        "colab_type": "code",
        "outputId": "a26d0ee7-8742-4da6-dd4a-d7ff8d828ced",
        "colab": {
          "base_uri": "https://localhost:8080/",
          "height": 34
        }
      },
      "source": [
        "link = \"https://drive.google.com/open?id=13iCRKXM3UF1rWsLmvweWGqhf6T7FHvNp\"\n",
        "fluff, id = link.split('=')\n",
        "print (id) # Verify that you have everything after '='"
      ],
      "execution_count": 3,
      "outputs": [
        {
          "output_type": "stream",
          "text": [
            "13iCRKXM3UF1rWsLmvweWGqhf6T7FHvNp\n"
          ],
          "name": "stdout"
        }
      ]
    },
    {
      "cell_type": "code",
      "metadata": {
        "id": "psshVrHTc9Sz",
        "colab_type": "code",
        "outputId": "25212f3c-2669-4ae1-db0b-0793ce8256a8",
        "colab": {
          "base_uri": "https://localhost:8080/",
          "height": 153
        }
      },
      "source": [
        "downloaded = drive.CreateFile({'id':id}) \n",
        "downloaded.GetContentFile('Filename.csv')  \n",
        "df = pd.read_csv('Filename.csv', header = None, names = [\"f1\", \"f2\", \"f3\", \"f4\", \"label\"])\n",
        "\n",
        "print(\"Top 5 rows of dataset\")\n",
        "print(df.head())\n",
        "\n",
        "print(\"Shape of dataset: {}\".format(df.shape))\n",
        "# Dataset is now stored in a Pandas Dataframe"
      ],
      "execution_count": 4,
      "outputs": [
        {
          "output_type": "stream",
          "text": [
            "Top 5 rows of dataset\n",
            "    f1   f2   f3   f4        label\n",
            "0  5.1  3.5  1.4  0.2  Iris-setosa\n",
            "1  4.9  3.0  1.4  0.2  Iris-setosa\n",
            "2  4.7  3.2  1.3  0.2  Iris-setosa\n",
            "3  4.6  3.1  1.5  0.2  Iris-setosa\n",
            "4  5.0  3.6  1.4  0.2  Iris-setosa\n",
            "Shape of dataset: (150, 5)\n"
          ],
          "name": "stdout"
        }
      ]
    },
    {
      "cell_type": "markdown",
      "metadata": {
        "id": "6qKtgOLkV3HH",
        "colab_type": "text"
      },
      "source": [
        "# Shuffling of dataset rows (Not required as it is done in Test-Train-Split)"
      ]
    },
    {
      "cell_type": "code",
      "metadata": {
        "id": "aitrUeARbq9I",
        "colab_type": "code",
        "outputId": "d1f1afa7-1a3d-4447-f57f-b73bd95f800a",
        "colab": {
          "base_uri": "https://localhost:8080/",
          "height": 204
        }
      },
      "source": [
        "df = df.sample(frac=1).reset_index(drop=True)\n",
        "\n",
        "print(df.head(10))"
      ],
      "execution_count": 5,
      "outputs": [
        {
          "output_type": "stream",
          "text": [
            "    f1   f2   f3   f4            label\n",
            "0  5.7  2.8  4.1  1.3  Iris-versicolor\n",
            "1  6.4  2.8  5.6  2.2   Iris-virginica\n",
            "2  4.4  2.9  1.4  0.2      Iris-setosa\n",
            "3  5.7  2.8  4.5  1.3  Iris-versicolor\n",
            "4  7.1  3.0  5.9  2.1   Iris-virginica\n",
            "5  6.3  2.5  5.0  1.9   Iris-virginica\n",
            "6  5.7  4.4  1.5  0.4      Iris-setosa\n",
            "7  5.8  2.7  5.1  1.9   Iris-virginica\n",
            "8  5.1  3.8  1.5  0.3      Iris-setosa\n",
            "9  7.7  2.8  6.7  2.0   Iris-virginica\n"
          ],
          "name": "stdout"
        }
      ]
    },
    {
      "cell_type": "markdown",
      "metadata": {
        "id": "fQqhUg1aWFVt",
        "colab_type": "text"
      },
      "source": [
        "# Plot feature of Pandas Library"
      ]
    },
    {
      "cell_type": "code",
      "metadata": {
        "id": "x09_V5ngeKTZ",
        "colab_type": "code",
        "outputId": "0e5cf9ba-0429-400e-e0a8-b3b0eb9eaa9c",
        "colab": {
          "base_uri": "https://localhost:8080/",
          "height": 299
        }
      },
      "source": [
        "df.plot(\"f1\", \"f2\", kind = \"scatter\")"
      ],
      "execution_count": 6,
      "outputs": [
        {
          "output_type": "execute_result",
          "data": {
            "text/plain": [
              "<matplotlib.axes._subplots.AxesSubplot at 0x7fa562938cf8>"
            ]
          },
          "metadata": {
            "tags": []
          },
          "execution_count": 6
        },
        {
          "output_type": "display_data",
          "data": {
            "image/png": "[encoded data removed]",
            "text/plain": [
              "<Figure size 432x288 with 1 Axes>"
            ]
          },
          "metadata": {
            "tags": [],
            "needs_background": "light"
          }
        }
      ]
    },
    {
      "cell_type": "markdown",
      "metadata": {
        "id": "SIyTH3VeWOd6",
        "colab_type": "text"
      },
      "source": [
        "# Creating feature set (x) and label set (y) if it does not exist"
      ]
    },
    {
      "cell_type": "code",
      "metadata": {
        "id": "geVa5epSie-E",
        "colab_type": "code",
        "outputId": "ee0e801d-c4b5-4217-b014-4fba76d9cbce",
        "colab": {
          "base_uri": "https://localhost:8080/",
          "height": 34
        }
      },
      "source": [
        "if 'y' not in globals():\n",
        "  # x = df[[\"f1\", \"f2\", \"f3\", \"f4\"]]\n",
        "  # y = df[\"label\"]\n",
        "\n",
        "  y_label = df.pop(\"label\")\n",
        "  x = df.copy()\n",
        "  print(\"shape of x: {} and y: {}\".format(x.shape, y_label.shape))"
      ],
      "execution_count": 7,
      "outputs": [
        {
          "output_type": "stream",
          "text": [
            "shape of x: (150, 4) and y: (150,)\n"
          ],
          "name": "stdout"
        }
      ]
    },
    {
      "cell_type": "markdown",
      "metadata": {
        "id": "GNl4KvHDWhyo",
        "colab_type": "text"
      },
      "source": [
        "# Data analysis"
      ]
    },
    {
      "cell_type": "code",
      "metadata": {
        "id": "Mf9uUHkokpph",
        "colab_type": "code",
        "outputId": "7bb60663-bfc9-41da-d615-e72e859454a8",
        "colab": {
          "base_uri": "https://localhost:8080/",
          "height": 297
        }
      },
      "source": [
        "x.describe()"
      ],
      "execution_count": 8,
      "outputs": [
        {
          "output_type": "execute_result",
          "data": {
            "text/html": [
              "<div>\n",
              "<style scoped>\n",
              "    .dataframe tbody tr th:only-of-type {\n",
              "        vertical-align: middle;\n",
              "    }\n",
              "\n",
              "    .dataframe tbody tr th {\n",
              "        vertical-align: top;\n",
              "    }\n",
              "\n",
              "    .dataframe thead th {\n",
              "        text-align: right;\n",
              "    }\n",
              "</style>\n",
              "<table border=\"1\" class=\"dataframe\">\n",
              "  <thead>\n",
              "    <tr style=\"text-align: right;\">\n",
              "      <th></th>\n",
              "      <th>f1</th>\n",
              "      <th>f2</th>\n",
              "      <th>f3</th>\n",
              "      <th>f4</th>\n",
              "    </tr>\n",
              "  </thead>\n",
              "  <tbody>\n",
              "    <tr>\n",
              "      <th>count</th>\n",
              "      <td>150.000000</td>\n",
              "      <td>150.000000</td>\n",
              "      <td>150.000000</td>\n",
              "      <td>150.000000</td>\n",
              "    </tr>\n",
              "    <tr>\n",
              "      <th>mean</th>\n",
              "      <td>5.843333</td>\n",
              "      <td>3.054000</td>\n",
              "      <td>3.758667</td>\n",
              "      <td>1.198667</td>\n",
              "    </tr>\n",
              "    <tr>\n",
              "      <th>std</th>\n",
              "      <td>0.828066</td>\n",
              "      <td>0.433594</td>\n",
              "      <td>1.764420</td>\n",
              "      <td>0.763161</td>\n",
              "    </tr>\n",
              "    <tr>\n",
              "      <th>min</th>\n",
              "      <td>4.300000</td>\n",
              "      <td>2.000000</td>\n",
              "      <td>1.000000</td>\n",
              "      <td>0.100000</td>\n",
              "    </tr>\n",
              "    <tr>\n",
              "      <th>25%</th>\n",
              "      <td>5.100000</td>\n",
              "      <td>2.800000</td>\n",
              "      <td>1.600000</td>\n",
              "      <td>0.300000</td>\n",
              "    </tr>\n",
              "    <tr>\n",
              "      <th>50%</th>\n",
              "      <td>5.800000</td>\n",
              "      <td>3.000000</td>\n",
              "      <td>4.350000</td>\n",
              "      <td>1.300000</td>\n",
              "    </tr>\n",
              "    <tr>\n",
              "      <th>75%</th>\n",
              "      <td>6.400000</td>\n",
              "      <td>3.300000</td>\n",
              "      <td>5.100000</td>\n",
              "      <td>1.800000</td>\n",
              "    </tr>\n",
              "    <tr>\n",
              "      <th>max</th>\n",
              "      <td>7.900000</td>\n",
              "      <td>4.400000</td>\n",
              "      <td>6.900000</td>\n",
              "      <td>2.500000</td>\n",
              "    </tr>\n",
              "  </tbody>\n",
              "</table>\n",
              "</div>"
            ],
            "text/plain": [
              "               f1          f2          f3          f4\n",
              "count  150.000000  150.000000  150.000000  150.000000\n",
              "mean     5.843333    3.054000    3.758667    1.198667\n",
              "std      0.828066    0.433594    1.764420    0.763161\n",
              "min      4.300000    2.000000    1.000000    0.100000\n",
              "25%      5.100000    2.800000    1.600000    0.300000\n",
              "50%      5.800000    3.000000    4.350000    1.300000\n",
              "75%      6.400000    3.300000    5.100000    1.800000\n",
              "max      7.900000    4.400000    6.900000    2.500000"
            ]
          },
          "metadata": {
            "tags": []
          },
          "execution_count": 8
        }
      ]
    },
    {
      "cell_type": "code",
      "metadata": {
        "id": "ntJt47_6pKUe",
        "colab_type": "code",
        "outputId": "7d7f9c64-8056-4fc2-c150-f8fcd4d8d4a3",
        "colab": {
          "base_uri": "https://localhost:8080/",
          "height": 204
        }
      },
      "source": [
        "x.head()"
      ],
      "execution_count": 9,
      "outputs": [
        {
          "output_type": "execute_result",
          "data": {
            "text/html": [
              "<div>\n",
              "<style scoped>\n",
              "    .dataframe tbody tr th:only-of-type {\n",
              "        vertical-align: middle;\n",
              "    }\n",
              "\n",
              "    .dataframe tbody tr th {\n",
              "        vertical-align: top;\n",
              "    }\n",
              "\n",
              "    .dataframe thead th {\n",
              "        text-align: right;\n",
              "    }\n",
              "</style>\n",
              "<table border=\"1\" class=\"dataframe\">\n",
              "  <thead>\n",
              "    <tr style=\"text-align: right;\">\n",
              "      <th></th>\n",
              "      <th>f1</th>\n",
              "      <th>f2</th>\n",
              "      <th>f3</th>\n",
              "      <th>f4</th>\n",
              "    </tr>\n",
              "  </thead>\n",
              "  <tbody>\n",
              "    <tr>\n",
              "      <th>0</th>\n",
              "      <td>5.7</td>\n",
              "      <td>2.8</td>\n",
              "      <td>4.1</td>\n",
              "      <td>1.3</td>\n",
              "    </tr>\n",
              "    <tr>\n",
              "      <th>1</th>\n",
              "      <td>6.4</td>\n",
              "      <td>2.8</td>\n",
              "      <td>5.6</td>\n",
              "      <td>2.2</td>\n",
              "    </tr>\n",
              "    <tr>\n",
              "      <th>2</th>\n",
              "      <td>4.4</td>\n",
              "      <td>2.9</td>\n",
              "      <td>1.4</td>\n",
              "      <td>0.2</td>\n",
              "    </tr>\n",
              "    <tr>\n",
              "      <th>3</th>\n",
              "      <td>5.7</td>\n",
              "      <td>2.8</td>\n",
              "      <td>4.5</td>\n",
              "      <td>1.3</td>\n",
              "    </tr>\n",
              "    <tr>\n",
              "      <th>4</th>\n",
              "      <td>7.1</td>\n",
              "      <td>3.0</td>\n",
              "      <td>5.9</td>\n",
              "      <td>2.1</td>\n",
              "    </tr>\n",
              "  </tbody>\n",
              "</table>\n",
              "</div>"
            ],
            "text/plain": [
              "    f1   f2   f3   f4\n",
              "0  5.7  2.8  4.1  1.3\n",
              "1  6.4  2.8  5.6  2.2\n",
              "2  4.4  2.9  1.4  0.2\n",
              "3  5.7  2.8  4.5  1.3\n",
              "4  7.1  3.0  5.9  2.1"
            ]
          },
          "metadata": {
            "tags": []
          },
          "execution_count": 9
        }
      ]
    },
    {
      "cell_type": "code",
      "metadata": {
        "id": "LhScljWEpN1y",
        "colab_type": "code",
        "outputId": "635a48fd-4ac2-4591-9559-581ee024af01",
        "colab": {
          "base_uri": "https://localhost:8080/",
          "height": 119
        }
      },
      "source": [
        "print(\"First element:\\n{}\".format(x.loc[0]))"
      ],
      "execution_count": 10,
      "outputs": [
        {
          "output_type": "stream",
          "text": [
            "First element:\n",
            "f1    5.7\n",
            "f2    2.8\n",
            "f3    4.1\n",
            "f4    1.3\n",
            "Name: 0, dtype: float64\n"
          ],
          "name": "stdout"
        }
      ]
    },
    {
      "cell_type": "code",
      "metadata": {
        "id": "R5ezDTeUpp3W",
        "colab_type": "code",
        "outputId": "ad358065-e837-4c05-e93a-37aa748397d2",
        "colab": {
          "base_uri": "https://localhost:8080/",
          "height": 282
        }
      },
      "source": [
        "x.f1.hist(bins = 20)"
      ],
      "execution_count": 11,
      "outputs": [
        {
          "output_type": "execute_result",
          "data": {
            "text/plain": [
              "<matplotlib.axes._subplots.AxesSubplot at 0x7fa56004a470>"
            ]
          },
          "metadata": {
            "tags": []
          },
          "execution_count": 11
        },
        {
          "output_type": "display_data",
          "data": {
            "image/png": "[encoded data removed]",
            "text/plain": [
              "<Figure size 432x288 with 1 Axes>"
            ]
          },
          "metadata": {
            "tags": [],
            "needs_background": "light"
          }
        }
      ]
    },
    {
      "cell_type": "code",
      "metadata": {
        "id": "EyimvOIpqzbl",
        "colab_type": "code",
        "outputId": "ec9bd55f-6e4a-46a9-bb54-015a280643ab",
        "colab": {
          "base_uri": "https://localhost:8080/",
          "height": 34
        }
      },
      "source": [
        "print(\"Total categorical labels: {}\".format(np.unique(y_label)))"
      ],
      "execution_count": 12,
      "outputs": [
        {
          "output_type": "stream",
          "text": [
            "Total categorical labels: ['Iris-setosa' 'Iris-versicolor' 'Iris-virginica']\n"
          ],
          "name": "stdout"
        }
      ]
    },
    {
      "cell_type": "markdown",
      "metadata": {
        "id": "uWQ20V8oWr32",
        "colab_type": "text"
      },
      "source": [
        "# Test-Train-Split"
      ]
    },
    {
      "cell_type": "code",
      "metadata": {
        "id": "uDZf54e-pCRn",
        "colab_type": "code",
        "outputId": "03f7d084-ed3b-48f0-b838-a012af4cbaf8",
        "colab": {
          "base_uri": "https://localhost:8080/",
          "height": 71
        }
      },
      "source": [
        "x_train, x_test, y_train_label, y_test_label = train_test_split(x, y_label)\n",
        "\n",
        "print(\"Shape data: \", x_train.shape, x_test.shape, y_train_label.shape, y_test_label.shape)\n",
        "print(\"Total categorical labels with count: {}\".format(np.unique(y_train_label, return_counts = True)))"
      ],
      "execution_count": 13,
      "outputs": [
        {
          "output_type": "stream",
          "text": [
            "Shape data:  (112, 4) (38, 4) (112,) (38,)\n",
            "Total categorical labels with count: (array(['Iris-setosa', 'Iris-versicolor', 'Iris-virginica'], dtype=object), array([39, 39, 34]))\n"
          ],
          "name": "stdout"
        }
      ]
    },
    {
      "cell_type": "markdown",
      "metadata": {
        "id": "Z95Ztj-RWyeR",
        "colab_type": "text"
      },
      "source": [
        "# Feature normalisation and Categorical label encoding"
      ]
    },
    {
      "cell_type": "code",
      "metadata": {
        "id": "4aVkx8UmjxmN",
        "colab_type": "code",
        "colab": {}
      },
      "source": [
        "scaler = MinMaxScaler()\n",
        "gle = LabelEncoder()"
      ],
      "execution_count": 0,
      "outputs": []
    },
    {
      "cell_type": "code",
      "metadata": {
        "id": "rYWZlCBekWZb",
        "colab_type": "code",
        "outputId": "06ec8ccc-9d8e-454a-d567-f1f5c011124f",
        "colab": {
          "base_uri": "https://localhost:8080/",
          "height": 34
        }
      },
      "source": [
        "x_train = scaler.fit_transform(x_train)\n",
        "x_test = scaler.transform(x_test)\n",
        "\n",
        "y_train = gle.fit_transform(y_train_label)\n",
        "y_test = gle.transform(y_test_label)\n",
        "\n",
        "print(\"Label mapping: {}\".format({index: label for index, label in enumerate(gle.classes_)}))"
      ],
      "execution_count": 15,
      "outputs": [
        {
          "output_type": "stream",
          "text": [
            "Label mapping: {0: 'Iris-setosa', 1: 'Iris-versicolor', 2: 'Iris-virginica'}\n"
          ],
          "name": "stdout"
        }
      ]
    },
    {
      "cell_type": "markdown",
      "metadata": {
        "id": "AL0PFcjGXuET",
        "colab_type": "text"
      },
      "source": [
        "# Data visualisations"
      ]
    },
    {
      "cell_type": "code",
      "metadata": {
        "id": "VsnxM_ZJT7zK",
        "colab_type": "code",
        "colab": {
          "base_uri": "https://localhost:8080/",
          "height": 312
        },
        "outputId": "b099d488-861f-41e9-8307-8d21b36b19d9"
      },
      "source": [
        "plt.scatter(x = x_train[:,0], y = x_train[:,1], c = y_train)\n",
        "plt.xlabel(\"Feature 0\")\n",
        "plt.ylabel(\"Feature 1\")\n",
        "plt.title(\"PLot Feature 0 vs 1\")"
      ],
      "execution_count": 16,
      "outputs": [
        {
          "output_type": "execute_result",
          "data": {
            "text/plain": [
              "Text(0.5, 1.0, 'PLot Feature 0 vs 1')"
            ]
          },
          "metadata": {
            "tags": []
          },
          "execution_count": 16
        },
        {
          "output_type": "display_data",
          "data": {
            "image/png": "[encoded data removed]",
            "text/plain": [
              "<Figure size 432x288 with 1 Axes>"
            ]
          },
          "metadata": {
            "tags": [],
            "needs_background": "light"
          }
        }
      ]
    },
    {
      "cell_type": "code",
      "metadata": {
        "id": "JOHRyyn4URcZ",
        "colab_type": "code",
        "colab": {
          "base_uri": "https://localhost:8080/",
          "height": 312
        },
        "outputId": "2c60f69c-db5b-4e5e-f07f-c41afcc4ec83"
      },
      "source": [
        "plt.scatter(x = x_train[:,2], y = x_train[:,3], c = y_train)\n",
        "plt.xlabel(\"Feature 2\")\n",
        "plt.ylabel(\"Feature 3\")\n",
        "plt.title(\"PLot Feature 2 vs 3\")"
      ],
      "execution_count": 17,
      "outputs": [
        {
          "output_type": "execute_result",
          "data": {
            "text/plain": [
              "Text(0.5, 1.0, 'PLot Feature 2 vs 3')"
            ]
          },
          "metadata": {
            "tags": []
          },
          "execution_count": 17
        },
        {
          "output_type": "display_data",
          "data": {
            "image/png": "[encoded data removed]",
            "text/plain": [
              "<Figure size 432x288 with 1 Axes>"
            ]
          },
          "metadata": {
            "tags": [],
            "needs_background": "light"
          }
        }
      ]
    },
    {
      "cell_type": "markdown",
      "metadata": {
        "id": "aPxIZNmMYBQL",
        "colab_type": "text"
      },
      "source": [
        "# Creating the Neural Network model"
      ]
    },
    {
      "cell_type": "code",
      "metadata": {
        "id": "KemXcaWO_mVO",
        "colab_type": "code",
        "colab": {}
      },
      "source": [
        "model = tf.keras.models.Sequential()\n",
        "\n",
        "model.add(tf.keras.layers.Dense(units = 12, activation = tf.keras.activations.relu, input_shape = (4,)))\n",
        "model.add(tf.keras.layers.Dense(units = 6, activation = tf.keras.activations.relu))\n",
        "\n",
        "model.add(tf.keras.layers.Dense(units = 3, activation= tf.keras.activations.softmax))"
      ],
      "execution_count": 0,
      "outputs": []
    },
    {
      "cell_type": "code",
      "metadata": {
        "id": "j16UZT2OBvbX",
        "colab_type": "code",
        "colab": {}
      },
      "source": [
        "model.compile(optimizer='adam', loss='sparse_categorical_crossentropy', metrics=['sparse_categorical_accuracy'])"
      ],
      "execution_count": 0,
      "outputs": []
    },
    {
      "cell_type": "code",
      "metadata": {
        "id": "Us47HeQpCVTx",
        "colab_type": "code",
        "outputId": "b304f00c-d736-4503-bd01-38e86c97cc0a",
        "colab": {
          "base_uri": "https://localhost:8080/",
          "height": 255
        }
      },
      "source": [
        "model.summary()"
      ],
      "execution_count": 28,
      "outputs": [
        {
          "output_type": "stream",
          "text": [
            "Model: \"sequential_1\"\n",
            "_________________________________________________________________\n",
            "Layer (type)                 Output Shape              Param #   \n",
            "=================================================================\n",
            "dense_3 (Dense)              (None, 12)                60        \n",
            "_________________________________________________________________\n",
            "dense_4 (Dense)              (None, 6)                 78        \n",
            "_________________________________________________________________\n",
            "dense_5 (Dense)              (None, 3)                 21        \n",
            "=================================================================\n",
            "Total params: 159\n",
            "Trainable params: 159\n",
            "Non-trainable params: 0\n",
            "_________________________________________________________________\n"
          ],
          "name": "stdout"
        }
      ]
    },
    {
      "cell_type": "markdown",
      "metadata": {
        "id": "pUrKE4rDYHBj",
        "colab_type": "text"
      },
      "source": [
        "# Training model"
      ]
    },
    {
      "cell_type": "code",
      "metadata": {
        "id": "ibBWDYQJDRvQ",
        "colab_type": "code",
        "outputId": "0a6201c8-309c-4ed2-d75e-f71936beb0a4",
        "colab": {
          "base_uri": "https://localhost:8080/",
          "height": 1000
        }
      },
      "source": [
        "model.fit(x = x_train, y = y_train, epochs = 100)"
      ],
      "execution_count": 29,
      "outputs": [
        {
          "output_type": "stream",
          "text": [
            "Epoch 1/100\n",
            "4/4 [==============================] - 0s 2ms/step - loss: 1.0970 - sparse_categorical_accuracy: 0.3125\n",
            "Epoch 2/100\n",
            "4/4 [==============================] - 0s 2ms/step - loss: 1.0871 - sparse_categorical_accuracy: 0.3125\n",
            "Epoch 3/100\n",
            "4/4 [==============================] - 0s 2ms/step - loss: 1.0749 - sparse_categorical_accuracy: 0.3571\n",
            "Epoch 4/100\n",
            "4/4 [==============================] - 0s 2ms/step - loss: 1.0642 - sparse_categorical_accuracy: 0.4286\n",
            "Epoch 5/100\n",
            "4/4 [==============================] - 0s 2ms/step - loss: 1.0497 - sparse_categorical_accuracy: 0.5268\n",
            "Epoch 6/100\n",
            "4/4 [==============================] - 0s 2ms/step - loss: 1.0374 - sparse_categorical_accuracy: 0.5982\n",
            "Epoch 7/100\n",
            "4/4 [==============================] - 0s 2ms/step - loss: 1.0375 - sparse_categorical_accuracy: 0.6339\n",
            "Epoch 8/100\n",
            "4/4 [==============================] - 0s 2ms/step - loss: 1.0276 - sparse_categorical_accuracy: 0.6518\n",
            "Epoch 9/100\n",
            "4/4 [==============================] - 0s 2ms/step - loss: 1.0130 - sparse_categorical_accuracy: 0.6518\n",
            "Epoch 10/100\n",
            "4/4 [==============================] - 0s 2ms/step - loss: 1.0067 - sparse_categorical_accuracy: 0.6518\n",
            "Epoch 11/100\n",
            "4/4 [==============================] - 0s 2ms/step - loss: 0.9968 - sparse_categorical_accuracy: 0.6518\n",
            "Epoch 12/100\n",
            "4/4 [==============================] - 0s 2ms/step - loss: 0.9858 - sparse_categorical_accuracy: 0.6518\n",
            "Epoch 13/100\n",
            "4/4 [==============================] - 0s 2ms/step - loss: 0.9828 - sparse_categorical_accuracy: 0.6518\n",
            "Epoch 14/100\n",
            "4/4 [==============================] - 0s 2ms/step - loss: 0.9661 - sparse_categorical_accuracy: 0.6607\n",
            "Epoch 15/100\n",
            "4/4 [==============================] - 0s 2ms/step - loss: 0.9648 - sparse_categorical_accuracy: 0.6607\n",
            "Epoch 16/100\n",
            "4/4 [==============================] - 0s 2ms/step - loss: 0.9479 - sparse_categorical_accuracy: 0.6875\n",
            "Epoch 17/100\n",
            "4/4 [==============================] - 0s 2ms/step - loss: 0.9393 - sparse_categorical_accuracy: 0.6964\n",
            "Epoch 18/100\n",
            "4/4 [==============================] - 0s 2ms/step - loss: 0.9335 - sparse_categorical_accuracy: 0.6964\n",
            "Epoch 19/100\n",
            "4/4 [==============================] - 0s 2ms/step - loss: 0.9246 - sparse_categorical_accuracy: 0.7143\n",
            "Epoch 20/100\n",
            "4/4 [==============================] - 0s 2ms/step - loss: 0.9118 - sparse_categorical_accuracy: 0.7321\n",
            "Epoch 21/100\n",
            "4/4 [==============================] - 0s 2ms/step - loss: 0.8964 - sparse_categorical_accuracy: 0.7768\n",
            "Epoch 22/100\n",
            "4/4 [==============================] - 0s 2ms/step - loss: 0.8865 - sparse_categorical_accuracy: 0.8214\n",
            "Epoch 23/100\n",
            "4/4 [==============================] - 0s 2ms/step - loss: 0.8824 - sparse_categorical_accuracy: 0.8482\n",
            "Epoch 24/100\n",
            "4/4 [==============================] - 0s 3ms/step - loss: 0.8711 - sparse_categorical_accuracy: 0.8571\n",
            "Epoch 25/100\n",
            "4/4 [==============================] - 0s 2ms/step - loss: 0.8641 - sparse_categorical_accuracy: 0.8929\n",
            "Epoch 26/100\n",
            "4/4 [==============================] - 0s 2ms/step - loss: 0.8473 - sparse_categorical_accuracy: 0.9286\n",
            "Epoch 27/100\n",
            "4/4 [==============================] - 0s 2ms/step - loss: 0.8427 - sparse_categorical_accuracy: 0.9554\n",
            "Epoch 28/100\n",
            "4/4 [==============================] - 0s 2ms/step - loss: 0.8233 - sparse_categorical_accuracy: 0.9554\n",
            "Epoch 29/100\n",
            "4/4 [==============================] - 0s 2ms/step - loss: 0.8137 - sparse_categorical_accuracy: 0.9554\n",
            "Epoch 30/100\n",
            "4/4 [==============================] - 0s 3ms/step - loss: 0.8023 - sparse_categorical_accuracy: 0.9554\n",
            "Epoch 31/100\n",
            "4/4 [==============================] - 0s 2ms/step - loss: 0.7951 - sparse_categorical_accuracy: 0.9554\n",
            "Epoch 32/100\n",
            "4/4 [==============================] - 0s 2ms/step - loss: 0.7929 - sparse_categorical_accuracy: 0.9643\n",
            "Epoch 33/100\n",
            "4/4 [==============================] - 0s 2ms/step - loss: 0.7620 - sparse_categorical_accuracy: 0.9554\n",
            "Epoch 34/100\n",
            "4/4 [==============================] - 0s 2ms/step - loss: 0.7548 - sparse_categorical_accuracy: 0.9554\n",
            "Epoch 35/100\n",
            "4/4 [==============================] - 0s 2ms/step - loss: 0.7582 - sparse_categorical_accuracy: 0.9554\n",
            "Epoch 36/100\n",
            "4/4 [==============================] - 0s 2ms/step - loss: 0.7265 - sparse_categorical_accuracy: 0.9643\n",
            "Epoch 37/100\n",
            "4/4 [==============================] - 0s 2ms/step - loss: 0.7276 - sparse_categorical_accuracy: 0.9643\n",
            "Epoch 38/100\n",
            "4/4 [==============================] - 0s 2ms/step - loss: 0.7033 - sparse_categorical_accuracy: 0.9554\n",
            "Epoch 39/100\n",
            "4/4 [==============================] - 0s 2ms/step - loss: 0.6910 - sparse_categorical_accuracy: 0.9554\n",
            "Epoch 40/100\n",
            "4/4 [==============================] - 0s 2ms/step - loss: 0.6843 - sparse_categorical_accuracy: 0.9464\n",
            "Epoch 41/100\n",
            "4/4 [==============================] - 0s 2ms/step - loss: 0.6762 - sparse_categorical_accuracy: 0.9554\n",
            "Epoch 42/100\n",
            "4/4 [==============================] - 0s 2ms/step - loss: 0.6688 - sparse_categorical_accuracy: 0.9643\n",
            "Epoch 43/100\n",
            "4/4 [==============================] - 0s 3ms/step - loss: 0.6679 - sparse_categorical_accuracy: 0.9643\n",
            "Epoch 44/100\n",
            "4/4 [==============================] - 0s 2ms/step - loss: 0.6544 - sparse_categorical_accuracy: 0.9643\n",
            "Epoch 45/100\n",
            "4/4 [==============================] - 0s 2ms/step - loss: 0.6476 - sparse_categorical_accuracy: 0.9643\n",
            "Epoch 46/100\n",
            "4/4 [==============================] - 0s 2ms/step - loss: 0.6466 - sparse_categorical_accuracy: 0.9643\n",
            "Epoch 47/100\n",
            "4/4 [==============================] - 0s 2ms/step - loss: 0.6220 - sparse_categorical_accuracy: 0.9732\n",
            "Epoch 48/100\n",
            "4/4 [==============================] - 0s 2ms/step - loss: 0.6024 - sparse_categorical_accuracy: 0.9732\n",
            "Epoch 49/100\n",
            "4/4 [==============================] - 0s 2ms/step - loss: 0.6093 - sparse_categorical_accuracy: 0.9732\n",
            "Epoch 50/100\n",
            "4/4 [==============================] - 0s 2ms/step - loss: 0.5992 - sparse_categorical_accuracy: 0.9732\n",
            "Epoch 51/100\n",
            "4/4 [==============================] - 0s 2ms/step - loss: 0.5989 - sparse_categorical_accuracy: 0.9732\n",
            "Epoch 52/100\n",
            "4/4 [==============================] - 0s 2ms/step - loss: 0.5962 - sparse_categorical_accuracy: 0.9732\n",
            "Epoch 53/100\n",
            "4/4 [==============================] - 0s 2ms/step - loss: 0.5615 - sparse_categorical_accuracy: 0.9821\n",
            "Epoch 54/100\n",
            "4/4 [==============================] - 0s 2ms/step - loss: 0.5641 - sparse_categorical_accuracy: 0.9821\n",
            "Epoch 55/100\n",
            "4/4 [==============================] - 0s 2ms/step - loss: 0.5573 - sparse_categorical_accuracy: 0.9732\n",
            "Epoch 56/100\n",
            "4/4 [==============================] - 0s 2ms/step - loss: 0.5613 - sparse_categorical_accuracy: 0.9911\n",
            "Epoch 57/100\n",
            "4/4 [==============================] - 0s 2ms/step - loss: 0.5584 - sparse_categorical_accuracy: 0.9821\n",
            "Epoch 58/100\n",
            "4/4 [==============================] - 0s 2ms/step - loss: 0.5285 - sparse_categorical_accuracy: 0.9821\n",
            "Epoch 59/100\n",
            "4/4 [==============================] - 0s 2ms/step - loss: 0.5303 - sparse_categorical_accuracy: 0.9821\n",
            "Epoch 60/100\n",
            "4/4 [==============================] - 0s 2ms/step - loss: 0.5428 - sparse_categorical_accuracy: 0.9821\n",
            "Epoch 61/100\n",
            "4/4 [==============================] - 0s 2ms/step - loss: 0.5275 - sparse_categorical_accuracy: 0.9821\n",
            "Epoch 62/100\n",
            "4/4 [==============================] - 0s 2ms/step - loss: 0.5082 - sparse_categorical_accuracy: 0.9821\n",
            "Epoch 63/100\n",
            "4/4 [==============================] - 0s 3ms/step - loss: 0.4964 - sparse_categorical_accuracy: 0.9821\n",
            "Epoch 64/100\n",
            "4/4 [==============================] - 0s 2ms/step - loss: 0.5156 - sparse_categorical_accuracy: 0.9821\n",
            "Epoch 65/100\n",
            "4/4 [==============================] - 0s 2ms/step - loss: 0.5067 - sparse_categorical_accuracy: 0.9911\n",
            "Epoch 66/100\n",
            "4/4 [==============================] - 0s 2ms/step - loss: 0.4980 - sparse_categorical_accuracy: 0.9821\n",
            "Epoch 67/100\n",
            "4/4 [==============================] - 0s 2ms/step - loss: 0.4892 - sparse_categorical_accuracy: 0.9821\n",
            "Epoch 68/100\n",
            "4/4 [==============================] - 0s 1ms/step - loss: 0.4856 - sparse_categorical_accuracy: 0.9821\n",
            "Epoch 69/100\n",
            "4/4 [==============================] - 0s 2ms/step - loss: 0.4695 - sparse_categorical_accuracy: 0.9821\n",
            "Epoch 70/100\n",
            "4/4 [==============================] - 0s 2ms/step - loss: 0.4675 - sparse_categorical_accuracy: 0.9821\n",
            "Epoch 71/100\n",
            "4/4 [==============================] - 0s 2ms/step - loss: 0.4896 - sparse_categorical_accuracy: 0.9821\n",
            "Epoch 72/100\n",
            "4/4 [==============================] - 0s 2ms/step - loss: 0.4686 - sparse_categorical_accuracy: 0.9821\n",
            "Epoch 73/100\n",
            "4/4 [==============================] - 0s 2ms/step - loss: 0.4550 - sparse_categorical_accuracy: 0.9821\n",
            "Epoch 74/100\n",
            "4/4 [==============================] - 0s 2ms/step - loss: 0.4626 - sparse_categorical_accuracy: 0.9821\n",
            "Epoch 75/100\n",
            "4/4 [==============================] - 0s 2ms/step - loss: 0.4692 - sparse_categorical_accuracy: 0.9821\n",
            "Epoch 76/100\n",
            "4/4 [==============================] - 0s 2ms/step - loss: 0.4413 - sparse_categorical_accuracy: 0.9821\n",
            "Epoch 77/100\n",
            "4/4 [==============================] - 0s 2ms/step - loss: 0.4412 - sparse_categorical_accuracy: 0.9821\n",
            "Epoch 78/100\n",
            "4/4 [==============================] - 0s 2ms/step - loss: 0.4375 - sparse_categorical_accuracy: 0.9821\n",
            "Epoch 79/100\n",
            "4/4 [==============================] - 0s 2ms/step - loss: 0.4375 - sparse_categorical_accuracy: 0.9821\n",
            "Epoch 80/100\n",
            "4/4 [==============================] - 0s 2ms/step - loss: 0.4326 - sparse_categorical_accuracy: 0.9821\n",
            "Epoch 81/100\n",
            "4/4 [==============================] - 0s 2ms/step - loss: 0.4398 - sparse_categorical_accuracy: 0.9821\n",
            "Epoch 82/100\n",
            "4/4 [==============================] - 0s 2ms/step - loss: 0.4327 - sparse_categorical_accuracy: 0.9821\n",
            "Epoch 83/100\n",
            "4/4 [==============================] - 0s 2ms/step - loss: 0.4276 - sparse_categorical_accuracy: 0.9821\n",
            "Epoch 84/100\n",
            "4/4 [==============================] - 0s 2ms/step - loss: 0.4238 - sparse_categorical_accuracy: 0.9821\n",
            "Epoch 85/100\n",
            "4/4 [==============================] - 0s 2ms/step - loss: 0.4060 - sparse_categorical_accuracy: 0.9821\n",
            "Epoch 86/100\n",
            "4/4 [==============================] - 0s 2ms/step - loss: 0.4314 - sparse_categorical_accuracy: 0.9821\n",
            "Epoch 87/100\n",
            "4/4 [==============================] - 0s 2ms/step - loss: 0.4033 - sparse_categorical_accuracy: 0.9821\n",
            "Epoch 88/100\n",
            "4/4 [==============================] - 0s 2ms/step - loss: 0.4023 - sparse_categorical_accuracy: 0.9821\n",
            "Epoch 89/100\n",
            "4/4 [==============================] - 0s 2ms/step - loss: 0.4049 - sparse_categorical_accuracy: 0.9821\n",
            "Epoch 90/100\n",
            "4/4 [==============================] - 0s 2ms/step - loss: 0.4120 - sparse_categorical_accuracy: 0.9821\n",
            "Epoch 91/100\n",
            "4/4 [==============================] - 0s 1ms/step - loss: 0.3975 - sparse_categorical_accuracy: 0.9821\n",
            "Epoch 92/100\n",
            "4/4 [==============================] - 0s 2ms/step - loss: 0.3992 - sparse_categorical_accuracy: 0.9911\n",
            "Epoch 93/100\n",
            "4/4 [==============================] - 0s 2ms/step - loss: 0.3871 - sparse_categorical_accuracy: 0.9732\n",
            "Epoch 94/100\n",
            "4/4 [==============================] - 0s 2ms/step - loss: 0.3996 - sparse_categorical_accuracy: 0.9821\n",
            "Epoch 95/100\n",
            "4/4 [==============================] - 0s 2ms/step - loss: 0.3991 - sparse_categorical_accuracy: 0.9821\n",
            "Epoch 96/100\n",
            "4/4 [==============================] - 0s 2ms/step - loss: 0.3881 - sparse_categorical_accuracy: 0.9732\n",
            "Epoch 97/100\n",
            "4/4 [==============================] - 0s 2ms/step - loss: 0.3809 - sparse_categorical_accuracy: 0.9821\n",
            "Epoch 98/100\n",
            "4/4 [==============================] - 0s 2ms/step - loss: 0.3737 - sparse_categorical_accuracy: 0.9821\n",
            "Epoch 99/100\n",
            "4/4 [==============================] - 0s 2ms/step - loss: 0.3815 - sparse_categorical_accuracy: 0.9821\n",
            "Epoch 100/100\n",
            "4/4 [==============================] - 0s 2ms/step - loss: 0.3663 - sparse_categorical_accuracy: 0.9821\n"
          ],
          "name": "stdout"
        },
        {
          "output_type": "execute_result",
          "data": {
            "text/plain": [
              "<tensorflow.python.keras.callbacks.History at 0x7fa555fd5748>"
            ]
          },
          "metadata": {
            "tags": []
          },
          "execution_count": 29
        }
      ]
    },
    {
      "cell_type": "markdown",
      "metadata": {
        "id": "_6zWa8ZFYNJ0",
        "colab_type": "text"
      },
      "source": [
        "# Manual testing for first test element"
      ]
    },
    {
      "cell_type": "code",
      "metadata": {
        "id": "I6edOXJCDbGQ",
        "colab_type": "code",
        "outputId": "b1ff3a34-770a-4733-8ba6-86db54752606",
        "colab": {
          "base_uri": "https://localhost:8080/",
          "height": 51
        }
      },
      "source": [
        "print(model.predict(np.array([x_test[0]])))\n",
        "print(y_test[0])"
      ],
      "execution_count": 30,
      "outputs": [
        {
          "output_type": "stream",
          "text": [
            "[[0.0118818 0.3777976 0.6103206]]\n",
            "2\n"
          ],
          "name": "stdout"
        }
      ]
    },
    {
      "cell_type": "markdown",
      "metadata": {
        "id": "K7KvD4hVYVD3",
        "colab_type": "text"
      },
      "source": [
        "# Model evaluation on test set"
      ]
    },
    {
      "cell_type": "code",
      "metadata": {
        "id": "Uk_pqliZE6yq",
        "colab_type": "code",
        "colab": {
          "base_uri": "https://localhost:8080/",
          "height": 34
        },
        "outputId": "d0133870-8392-45db-cdd6-c1606221ad42"
      },
      "source": [
        "loss, accuracy = model.evaluate(x = x_test, y = y_test)"
      ],
      "execution_count": 31,
      "outputs": [
        {
          "output_type": "stream",
          "text": [
            "2/2 [==============================] - 0s 3ms/step - loss: 0.4601 - sparse_categorical_accuracy: 0.9211\n"
          ],
          "name": "stdout"
        }
      ]
    },
    {
      "cell_type": "code",
      "metadata": {
        "id": "3dZeFv-6Smgr",
        "colab_type": "code",
        "colab": {
          "base_uri": "https://localhost:8080/",
          "height": 34
        },
        "outputId": "74e3a2e1-1f97-4bf1-da54-bb0e9f23d7c8"
      },
      "source": [
        "print(\"Accuracy is: {}\".format(accuracy))"
      ],
      "execution_count": 32,
      "outputs": [
        {
          "output_type": "stream",
          "text": [
            "Accuracy is: 0.9210526347160339\n"
          ],
          "name": "stdout"
        }
      ]
    },
    {
      "cell_type": "markdown",
      "metadata": {
        "id": "vxWBBUetY2_G",
        "colab_type": "text"
      },
      "source": [
        "# Saving the model"
      ]
    },
    {
      "cell_type": "code",
      "metadata": {
        "id": "_39Mua7oYzYc",
        "colab_type": "code",
        "colab": {}
      },
      "source": [
        "model.save(\"Iris_trained.h5\")"
      ],
      "execution_count": 0,
      "outputs": []
    },
    {
      "cell_type": "code",
      "metadata": {
        "id": "uqeL5wg6ZEWs",
        "colab_type": "code",
        "colab": {}
      },
      "source": [
        ""
      ],
      "execution_count": 0,
      "outputs": []
    }
  ]
}