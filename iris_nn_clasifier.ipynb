{
 "cells": [
  {
   "cell_type": "code",
   "execution_count": 1,
   "metadata": {
    "collapsed": true
   },
   "outputs": [],
   "source": [
    "import csv\n",
    "import sklearn\n",
    "import numpy as np\n",
    "import matplotlib.pyplot as plt\n",
    "from sklearn.decomposition import PCA"
   ]
  },
  {
   "cell_type": "code",
   "execution_count": 2,
   "metadata": {
    "collapsed": true
   },
   "outputs": [],
   "source": [
    "def loading(filename = 'iris_data.csv'):\n",
    "    \"\"\"\n",
    "    Loading the csv file\n",
    "\n",
    "    Parameters\n",
    "    ----------\n",
    "    filename\n",
    "        Name of the file to be loaded\n",
    "        \n",
    "    Returns\n",
    "    -------\n",
    "    dataset\n",
    "        A 2D numpy array representing data.\n",
    "    m\n",
    "        (int) Total number of samples\n",
    "    n\n",
    "        (int) Total numbers of features\n",
    "    \"\"\"\n",
    "    file = open(filename,'r')\n",
    "    csv_reader = csv.reader(file)\n",
    "\n",
    "    m,n = 0,0\n",
    "    data = []\n",
    "    labels = {'Iris-setosa': [1,0,0], 'Iris-versicolor': [0,1,0], 'Iris-virginica': [0,0,1]}\n",
    "    for line in csv_reader:\n",
    "        if n==0:\n",
    "            n = len(line)-1\n",
    "        if len(line)==0:\n",
    "            break\n",
    "        m+=1\n",
    "        data.append([float(i) for i in line[:-1]] + labels[line[-1]])\n",
    "\n",
    "    dataset = np.array(data, dtype=np.float16)\n",
    "    return dataset, m, n, labels\n",
    "\n",
    "dataset, m, n, labels = loading()"
   ]
  },
  {
   "cell_type": "code",
   "execution_count": 3,
   "metadata": {
    "collapsed": true
   },
   "outputs": [],
   "source": [
    "def mean_norm(dataset,m,n):\n",
    "    \"\"\"\n",
    "    Mean normalisation of the loaded dataset\n",
    "\n",
    "    Parameters\n",
    "    ----------\n",
    "    dataset\n",
    "        A 2D numpy array representing data.\n",
    "    m\n",
    "        (int) Total number of samples\n",
    "    n\n",
    "        (int) Total numbers of features\n",
    "        \n",
    "    Returns\n",
    "    -------\n",
    "    dataset\n",
    "        Modified dataset.\n",
    "    \"\"\"\n",
    "    avg = (1/m)*dataset[:,:n].sum(axis=0)\n",
    "    dataset[:,:n] = (dataset[:,:n] - avg)/(np.max(dataset[:,:n],axis=0) - np.min(dataset[:,:n],axis=0))\n",
    "    return dataset\n",
    "\n",
    "dataset = mean_norm(dataset,m,n)"
   ]
  },
  {
   "cell_type": "code",
   "execution_count": 4,
   "metadata": {
    "collapsed": true
   },
   "outputs": [],
   "source": [
    "def test_train_split(dataset, m, n):\n",
    "    \"\"\"\n",
    "    Spliting the dataset into corresponding arrays.\n",
    "\n",
    "    Parameters\n",
    "    ----------\n",
    "    dataset\n",
    "        A 2D numpy array representing data.\n",
    "    m\n",
    "        (int) Total number of samples\n",
    "    n\n",
    "        (int) Total numbers of features\n",
    "        \n",
    "    Returns\n",
    "    -------\n",
    "    x_train\n",
    "        A 2-D numpy array of training feature\n",
    "    x_test\n",
    "        A 2-D numpy array of testing feature\n",
    "    y_train\n",
    "        A 2-D numpy array of training label\n",
    "    y_test\n",
    "        A 2-D numpy array of testing label\n",
    "    \"\"\"\n",
    "    frac = 0.75\n",
    "    \n",
    "    np.random.shuffle(dataset)\n",
    "    split = int(m*frac)\n",
    "    \n",
    "    x_train = dataset[:split, :n]\n",
    "    y_train = dataset[:split, n:]\n",
    "    x_test = dataset[split:, :n]\n",
    "    y_test = dataset[split:, n:]\n",
    "    \n",
    "    return x_train, x_test, y_train, y_test\n",
    "\n",
    "x_train, x_test, y_train, y_test = test_train_split(dataset, m, n)"
   ]
  },
  {
   "cell_type": "code",
   "execution_count": 5,
   "metadata": {
    "collapsed": true
   },
   "outputs": [],
   "source": [
    "def para_creation(n_inp_node = n, n_hidden_node = [5,4], n_out_node = y_train.shape[1]):\n",
    "    \"\"\"\n",
    "    Creates random parameters.\n",
    "\n",
    "    Parameters\n",
    "    ----------\n",
    "    n_inp_node\n",
    "        (int) no. of input nodes ( also equal to no. of features ).\n",
    "    n_hidden_node\n",
    "        (int) no. of hidden nodes\n",
    "    n_out_node\n",
    "        (int) no. of output nodes ( also equal to no. of labels ).\n",
    "        \n",
    "    Returns\n",
    "    -------\n",
    "    w\n",
    "        A 2-D numpy array of weights.\n",
    "    b\n",
    "        A 2-D numpy array of bias.\n",
    "    \"\"\"\n",
    "    n_nodes = [n_inp_node] + n_hidden_node + [n_out_node]\n",
    "    w,b=[],[]\n",
    "    for i,j in zip(n_nodes[:-1],n_nodes[1:]):\n",
    "        w.append(np.random.randn(i,j))\n",
    "        b.append(np.random.randn(j,1))\n",
    "        \n",
    "    return w,b\n",
    "\n",
    "w,b = para_creation()"
   ]
  },
  {
   "cell_type": "code",
   "execution_count": 6,
   "metadata": {
    "collapsed": true
   },
   "outputs": [],
   "source": [
    "def forward_prop(x_train, w, b, non_linear_type = 'sigmoid'):\n",
    "    \"\"\"\n",
    "    Forward Propagation.\n",
    "\n",
    "    Parameters\n",
    "    ----------\n",
    "    x_train\n",
    "        A 2-D numpy array of training features.\n",
    "    w\n",
    "        A 2-D numpy array of weights.\n",
    "    b\n",
    "        A 2-D numpy array of bias.\n",
    "    non_linear_type\n",
    "        (string) Tells about the activation function\n",
    "        \n",
    "    Returns\n",
    "    -------\n",
    "    a\n",
    "        Returns 2-D numpy array of prediction\n",
    "    \"\"\"\n",
    "    # non_linear_type = 'relu'\n",
    "    a=[x_train]\n",
    "    lyr = 0\n",
    "    for weight, bias in zip(w,b):\n",
    "        # linear part\n",
    "        val = np.dot(a[lyr],w[lyr])+b[lyr].T\n",
    "        lyr += 1\n",
    "        # Sigmoid part\n",
    "        if non_linear_type == 'sigmoid':\n",
    "            val = 1/(1+np.exp(-val))\n",
    "\n",
    "        # Leaky ReLU part\n",
    "        if non_linear_type == 'relu':\n",
    "            val = np.maximum(0.1*val,val)\n",
    "            \n",
    "            # Softmax at last layer\n",
    "            if lyr == len(w):\n",
    "                val = np.exp(val)\n",
    "                val /= val.sum(axis=1, keepdims=True)\n",
    "\n",
    "        a.append(val) \n",
    "    return a\n",
    "\n",
    "a = forward_prop(x_train, w, b)"
   ]
  },
  {
   "cell_type": "code",
   "execution_count": 7,
   "metadata": {
    "collapsed": true
   },
   "outputs": [],
   "source": [
    "def cost_function(m, actual = y_train, predicted = a[-1]):\n",
    "    \"\"\"\n",
    "    Calculates cost function.\n",
    "\n",
    "    Parameters\n",
    "    ----------\n",
    "    m\n",
    "        Total number of samples.\n",
    "    actual\n",
    "        A 2-D numpy array of labels.\n",
    "    predicted\n",
    "        A 2-D numpy array of predictions.\n",
    "       \n",
    "    Returns\n",
    "    -------\n",
    "    cost\n",
    "        Returns cost of prediction\n",
    "    \"\"\"\n",
    "    cost = (-1/m)*(actual*np.log(predicted) + (1-actual)*np.log(1-predicted)).sum()\n",
    "    return cost\n",
    "\n",
    "cost = cost_function(m)"
   ]
  },
  {
   "cell_type": "code",
   "execution_count": 8,
   "metadata": {
    "collapsed": true
   },
   "outputs": [],
   "source": [
    "def backward_prop(y_train, w, b, a, learning_rate = 0.1, non_linear_type = 'sigmoid'):\n",
    "    \"\"\"\n",
    "    Backward Propagation.\n",
    "\n",
    "    Parameters\n",
    "    ----------\n",
    "    y_train\n",
    "        A 2-D numpy array of training labels.\n",
    "    w\n",
    "        A 2-D numpy array of weights.\n",
    "    b\n",
    "        A 2-D numpy array of bias.\n",
    "    a\n",
    "        A list of 2-D numpy array of predictions.\n",
    "    learning_rate\n",
    "        (float) rate of learning\n",
    "    non_linear_type\n",
    "        (string) Tells about the activation function\n",
    "        \n",
    "    Returns\n",
    "    -------\n",
    "    w\n",
    "        A 2-D numpy array of weights.\n",
    "    b\n",
    "        A 2-D numpy array of bias.\n",
    "    \"\"\"\n",
    "    # non_linear_type = 'relu'\n",
    "    n = len(w)\n",
    "    dz = y_train - a[-1]\n",
    "    for index in range(-1,-n-1,-1):\n",
    "        # linear part\n",
    "        dw = (1/m)*np.dot(a[index - 1].T,dz)\n",
    "        db = (1/m)*np.sum(dz, axis = 0, keepdims = True).T\n",
    "        w[index] += learning_rate*dw\n",
    "        b[index] += learning_rate*db\n",
    "        # Sigmoid\n",
    "        if non_linear_type == 'sigmoid':\n",
    "            dz = np.dot(dz, w[index].T)*(a[index-1]*(1-a[index-1]))\n",
    "        # ReLU\n",
    "        if non_linear_type == 'relu':\n",
    "            dz = np.dot(dz, w[index].T)*(0.1*(a[index-1]<0)+(a[index-1]>0))\n",
    "        \n",
    "    return w, b\n",
    "\n",
    "w,b = backward_prop(y_train, w, b, a)"
   ]
  },
  {
   "cell_type": "code",
   "execution_count": 9,
   "metadata": {
    "collapsed": true
   },
   "outputs": [],
   "source": [
    "def predict(x_test, w, b, non_linear_type):\n",
    "    \"\"\"\n",
    "    Prediction function.\n",
    "\n",
    "    Parameters\n",
    "    ----------\n",
    "    x_test\n",
    "        A 2-D numpy array of testing features.\n",
    "    w\n",
    "        A 2-D numpy array of weights.\n",
    "    b\n",
    "        A 2-D numpy array of bias.\n",
    "    non_linear_type\n",
    "        (string) Tells about the activation function\n",
    "        \n",
    "    Returns\n",
    "    -------\n",
    "    a\n",
    "        Returns 2-D numpy array of prediction\n",
    "    \"\"\"\n",
    "    a = forward_prop(x_test, w, b, non_linear_type)\n",
    "    return a[-1]"
   ]
  },
  {
   "cell_type": "code",
   "execution_count": 10,
   "metadata": {
    "collapsed": true
   },
   "outputs": [],
   "source": [
    "def confusion_matrix(predicted, actual, labels):\n",
    "    \"\"\"\n",
    "    Evaluation function.\n",
    "\n",
    "    Parameters\n",
    "    ----------\n",
    "    predicted\n",
    "        A 2-D numpy array of predicted labels.\n",
    "    actual\n",
    "        A 2-D numpy array of actual labels.\n",
    "    labels\n",
    "        A list of labels.\n",
    "    non_linear_type\n",
    "        (string) Tells about the activation function\n",
    "        \n",
    "    Returns\n",
    "    -------\n",
    "    None\n",
    "    \"\"\"\n",
    "    print('=================\\n Model evaluation\\n=================')\n",
    "    print('labels are: {}\\n'.format(labels))\n",
    "    conf_mat = np.zeros((3,3), dtype = np.uint8)\n",
    "    true_positive, total = 0, 0\n",
    "    for pred, actl in zip(predicted,actual):\n",
    "        conf_mat[np.argmax(actl), np.argmax(pred)]+=1\n",
    "        if np.argmax(actl) == np.argmax(pred):\n",
    "            true_positive += 1\n",
    "        total += 1\n",
    "    print(conf_mat)\n",
    "    print('\\nAccuracy is: {}/{} = {}%'.format(true_positive, total, true_positive*100/total))\n",
    "    "
   ]
  },
  {
   "cell_type": "code",
   "execution_count": 11,
   "metadata": {},
   "outputs": [
    {
     "name": "stdout",
     "output_type": "stream",
     "text": [
      "[ 0.84130746  0.11742693]\n"
     ]
    },
    {
     "data": {
      "image/png": "[encoded data removed]",
      "text/plain": [
       "<matplotlib.figure.Figure at 0x89cf097438>"
      ]
     },
     "metadata": {},
     "output_type": "display_data"
    }
   ],
   "source": [
    "def plot_decision_boundary(dataset, m, n, w, b, non_linear_type = 'relu'):\n",
    "    \"\"\"\n",
    "    Data visualisation.\n",
    "\n",
    "    Parameters\n",
    "    ----------\n",
    "    dataset\n",
    "        A 2-D numpy array of data.\n",
    "    m\n",
    "        (int) Total number of samples\n",
    "    n\n",
    "        (int) Total numbers of features\n",
    "    w\n",
    "        A 2-D numpy array of weights.\n",
    "    b\n",
    "        A 2-D numpy array of bias.\n",
    "    non_linear_type\n",
    "        (string) Tells about the activation function\n",
    "        \n",
    "    Returns\n",
    "    -------\n",
    "    None\n",
    "    \"\"\"\n",
    "    pca = PCA(n_components=2)\n",
    "    new_dataset = pca.fit_transform(dataset[:,:n])\n",
    "    print(pca.explained_variance_ratio_)\n",
    "    # Set min and max values and give it some padding\n",
    "    x_min, x_max = new_dataset[:,0].min() - 0.25, new_dataset[:,0].max() + 0.25\n",
    "    y_min, y_max = new_dataset[:,1].min() - 0.25, new_dataset[:,1].max() + 0.25\n",
    "    h = 0.01\n",
    "    # Generate a grid of points with distance h between them\n",
    "    xx, yy = np.meshgrid(np.arange(x_min, x_max, h), np.arange(y_min, y_max, h))\n",
    "    # Predict the function value for the whole grid\n",
    "    #Z = model(np.c_[xx.ravel(), yy.ravel()])\n",
    "    test_cases = pca.inverse_transform(np.c_[xx.ravel(), yy.ravel()])\n",
    "    z = predict(test_cases, w, b, non_linear_type)\n",
    "    z = z.argmax(axis=1)\n",
    "    z = z.reshape(xx.shape)\n",
    "    # Plot the contour and training examples\n",
    "    plt.contourf(xx, yy, z, cmap=plt.cm.brg, alpha = 0.5)\n",
    "    plt.ylabel('x2')\n",
    "    plt.xlabel('x1')\n",
    "    plt.scatter(new_dataset[:,0], new_dataset[:,1], c=np.argmax(dataset[:,n:], axis=1), cmap=plt.cm.brg)\n",
    "    plt.show()\n",
    "    return\n",
    "\n",
    "plot_decision_boundary(dataset, m, n, w, b)"
   ]
  },
  {
   "cell_type": "code",
   "execution_count": 12,
   "metadata": {
    "scrolled": false
   },
   "outputs": [
    {
     "data": {
      "image/png": "[encoded data removed]",
      "text/plain": [
       "<matplotlib.figure.Figure at 0x89cfc64780>"
      ]
     },
     "metadata": {},
     "output_type": "display_data"
    },
    {
     "name": "stdout",
     "output_type": "stream",
     "text": [
      "=================\n",
      " Model evaluation\n",
      "=================\n",
      "labels are: {'Iris-setosa': [1, 0, 0], 'Iris-versicolor': [0, 1, 0], 'Iris-virginica': [0, 0, 1]}\n",
      "\n",
      "[[15  0  0]\n",
      " [ 0  8  1]\n",
      " [ 0  1 13]]\n",
      "\n",
      "Accuracy is: 36/38 = 94.73684210526316%\n",
      "[ 0.84130746  0.11742693]\n"
     ]
    },
    {
     "data": {
      "image/png": "[encoded data removed]",
      "text/plain": [
       "<matplotlib.figure.Figure at 0x89cfdf01d0>"
      ]
     },
     "metadata": {},
     "output_type": "display_data"
    }
   ],
   "source": [
    "def main_function(n_iteration = 20):\n",
    "    \n",
    "    # Loading the dataset\n",
    "    dataset, m, n, labels = loading()\n",
    "    \n",
    "    # Mean normalisation\n",
    "    dataset = mean_norm(dataset,m,n)\n",
    "    \n",
    "    # Test train split\n",
    "    x_train, x_test, y_train, y_test = test_train_split(dataset, m, n)\n",
    "    # Parameter creation\n",
    "    w,b = para_creation(n_inp_node = n, n_hidden_node = [4,4], n_out_node = y_train.shape[1])\n",
    "    \n",
    "    # Iterations of training\n",
    "    cost = []\n",
    "    for iterations in range(n_iteration):\n",
    "        # Forward Propagation\n",
    "        a = forward_prop(x_train, w, b, non_linear_type = 'relu')\n",
    "        \n",
    "        # Cost calculation\n",
    "        cost.append(cost_function(m, actual = y_train, predicted = a[-1]))\n",
    "        \n",
    "        # Backward propagation\n",
    "        w, b = backward_prop(y_train, w, b, a, non_linear_type = 'relu')\n",
    "        \n",
    "    plt.plot(range(n_iteration), cost)\n",
    "    plt.show()\n",
    "    \n",
    "    # Testing\n",
    "    prediction = predict(x_test, w, b, non_linear_type = 'relu')\n",
    "    \n",
    "    # accuracy\n",
    "    confusion_matrix(predicted = prediction, actual = y_test, labels = labels)\n",
    "    \n",
    "    # visualisation\n",
    "    plot_decision_boundary(dataset, m, n, w, b)\n",
    "    \n",
    "main_function(n_iteration = 500)"
   ]
  },
  {
   "cell_type": "code",
   "execution_count": null,
   "metadata": {
    "collapsed": true
   },
   "outputs": [],
   "source": []
  }
 ],
 "metadata": {
  "kernelspec": {
   "display_name": "Python 3",
   "language": "python",
   "name": "python3"
  },
  "language_info": {
   "codemirror_mode": {
    "name": "ipython",
    "version": 3
   },
   "file_extension": ".py",
   "mimetype": "text/x-python",
   "name": "python",
   "nbconvert_exporter": "python",
   "pygments_lexer": "ipython3",
   "version": "3.6.1"
  }
 },
 "nbformat": 4,
 "nbformat_minor": 2
}
